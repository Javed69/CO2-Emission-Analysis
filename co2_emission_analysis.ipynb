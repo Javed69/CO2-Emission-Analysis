{
  "nbformat": 4,
  "nbformat_minor": 0,
  "metadata": {
    "kernelspec": {
      "language": "python",
      "display_name": "Python 3",
      "name": "python3"
    },
    "language_info": {
      "name": "python",
      "version": "3.7.6",
      "mimetype": "text/x-python",
      "codemirror_mode": {
        "name": "ipython",
        "version": 3
      },
      "pygments_lexer": "ipython3",
      "nbconvert_exporter": "python",
      "file_extension": ".py"
    },
    "colab": {
      "name": "co2-emission-analysis.ipynb",
      "provenance": [],
      "include_colab_link": true
    },
    "accelerator": "GPU"
  },
  "cells": [
    {
      "cell_type": "markdown",
      "metadata": {
        "id": "view-in-github",
        "colab_type": "text"
      },
      "source": [
        "<a href=\"https://colab.research.google.com/github/Javed69/CO2-Emission-Analysis/blob/main/co2_emission_analysis.ipynb\" target=\"_parent\"><img src=\"https://colab.research.google.com/assets/colab-badge.svg\" alt=\"Open In Colab\"/></a>"
      ]
    },
    {
      "cell_type": "markdown",
      "metadata": {
        "id": "NM4G7Qwl62tR"
      },
      "source": [
        "## CO2 Emissions Analysis from 1751 to 2017\n"
      ]
    },
    {
      "cell_type": "code",
      "metadata": {
        "id": "PQPfZzCu9pe2"
      },
      "source": [
        "from google.colab import drive\n",
        "drive.mount('/content/drive/')"
      ],
      "execution_count": null,
      "outputs": []
    },
    {
      "cell_type": "code",
      "metadata": {
        "execution": {
          "iopub.status.busy": "2021-10-18T14:41:57.108710Z",
          "iopub.execute_input": "2021-10-18T14:41:57.109082Z",
          "iopub.status.idle": "2021-10-18T14:41:57.114050Z",
          "shell.execute_reply.started": "2021-10-18T14:41:57.109048Z",
          "shell.execute_reply": "2021-10-18T14:41:57.112889Z"
        },
        "trusted": true,
        "id": "b1vuEBo_62tY"
      },
      "source": [
        "import pandas as pd\n",
        "import numpy as np\n",
        "import matplotlib.pyplot as plt\n",
        "import seaborn as sns"
      ],
      "execution_count": null,
      "outputs": []
    },
    {
      "cell_type": "code",
      "metadata": {
        "execution": {
          "iopub.status.busy": "2021-10-18T14:42:00.195415Z",
          "iopub.execute_input": "2021-10-18T14:42:00.195782Z",
          "iopub.status.idle": "2021-10-18T14:42:00.237496Z",
          "shell.execute_reply.started": "2021-10-18T14:42:00.195751Z",
          "shell.execute_reply": "2021-10-18T14:42:00.236537Z"
        },
        "trusted": true,
        "id": "PFRXqQVS62td"
      },
      "source": [
        "co2=pd.read_csv('/content/drive/MyDrive/BDA_Mini_Project/co2_emission.csv')"
      ],
      "execution_count": null,
      "outputs": []
    },
    {
      "cell_type": "code",
      "metadata": {
        "execution": {
          "iopub.status.busy": "2021-10-18T14:42:06.483346Z",
          "iopub.execute_input": "2021-10-18T14:42:06.483721Z",
          "iopub.status.idle": "2021-10-18T14:42:06.492043Z",
          "shell.execute_reply.started": "2021-10-18T14:42:06.483690Z",
          "shell.execute_reply": "2021-10-18T14:42:06.490796Z"
        },
        "trusted": true,
        "colab": {
          "base_uri": "https://localhost:8080/"
        },
        "id": "We6kITYf62te",
        "outputId": "4b9da71d-8bef-4b86-b2bc-c7d820c8c253"
      },
      "source": [
        "co2.shape"
      ],
      "execution_count": null,
      "outputs": [
        {
          "output_type": "execute_result",
          "data": {
            "text/plain": [
              "(20853, 4)"
            ]
          },
          "metadata": {},
          "execution_count": 4
        }
      ]
    },
    {
      "cell_type": "code",
      "metadata": {
        "execution": {
          "iopub.status.busy": "2021-10-18T14:42:15.080690Z",
          "iopub.execute_input": "2021-10-18T14:42:15.081082Z",
          "iopub.status.idle": "2021-10-18T14:42:15.101221Z",
          "shell.execute_reply.started": "2021-10-18T14:42:15.081052Z",
          "shell.execute_reply": "2021-10-18T14:42:15.100320Z"
        },
        "trusted": true,
        "colab": {
          "base_uri": "https://localhost:8080/",
          "height": 203
        },
        "id": "cFTilWvG62tf",
        "outputId": "0afc106d-b3cf-4a25-aa9c-49722a127958"
      },
      "source": [
        "co2.head()"
      ],
      "execution_count": null,
      "outputs": [
        {
          "output_type": "execute_result",
          "data": {
            "text/html": [
              "<div>\n",
              "<style scoped>\n",
              "    .dataframe tbody tr th:only-of-type {\n",
              "        vertical-align: middle;\n",
              "    }\n",
              "\n",
              "    .dataframe tbody tr th {\n",
              "        vertical-align: top;\n",
              "    }\n",
              "\n",
              "    .dataframe thead th {\n",
              "        text-align: right;\n",
              "    }\n",
              "</style>\n",
              "<table border=\"1\" class=\"dataframe\">\n",
              "  <thead>\n",
              "    <tr style=\"text-align: right;\">\n",
              "      <th></th>\n",
              "      <th>Entity</th>\n",
              "      <th>Code</th>\n",
              "      <th>Year</th>\n",
              "      <th>Annual CO₂ emissions (tonnes )</th>\n",
              "    </tr>\n",
              "  </thead>\n",
              "  <tbody>\n",
              "    <tr>\n",
              "      <th>0</th>\n",
              "      <td>Afghanistan</td>\n",
              "      <td>AFG</td>\n",
              "      <td>1949</td>\n",
              "      <td>14656.0</td>\n",
              "    </tr>\n",
              "    <tr>\n",
              "      <th>1</th>\n",
              "      <td>Afghanistan</td>\n",
              "      <td>AFG</td>\n",
              "      <td>1950</td>\n",
              "      <td>84272.0</td>\n",
              "    </tr>\n",
              "    <tr>\n",
              "      <th>2</th>\n",
              "      <td>Afghanistan</td>\n",
              "      <td>AFG</td>\n",
              "      <td>1951</td>\n",
              "      <td>91600.0</td>\n",
              "    </tr>\n",
              "    <tr>\n",
              "      <th>3</th>\n",
              "      <td>Afghanistan</td>\n",
              "      <td>AFG</td>\n",
              "      <td>1952</td>\n",
              "      <td>91600.0</td>\n",
              "    </tr>\n",
              "    <tr>\n",
              "      <th>4</th>\n",
              "      <td>Afghanistan</td>\n",
              "      <td>AFG</td>\n",
              "      <td>1953</td>\n",
              "      <td>106256.0</td>\n",
              "    </tr>\n",
              "  </tbody>\n",
              "</table>\n",
              "</div>"
            ],
            "text/plain": [
              "        Entity Code  Year  Annual CO₂ emissions (tonnes )\n",
              "0  Afghanistan  AFG  1949                         14656.0\n",
              "1  Afghanistan  AFG  1950                         84272.0\n",
              "2  Afghanistan  AFG  1951                         91600.0\n",
              "3  Afghanistan  AFG  1952                         91600.0\n",
              "4  Afghanistan  AFG  1953                        106256.0"
            ]
          },
          "metadata": {},
          "execution_count": 5
        }
      ]
    },
    {
      "cell_type": "code",
      "metadata": {
        "execution": {
          "iopub.status.busy": "2021-10-18T14:42:23.428628Z",
          "iopub.execute_input": "2021-10-18T14:42:23.429021Z",
          "iopub.status.idle": "2021-10-18T14:42:23.452553Z",
          "shell.execute_reply.started": "2021-10-18T14:42:23.428990Z",
          "shell.execute_reply": "2021-10-18T14:42:23.451474Z"
        },
        "trusted": true,
        "colab": {
          "base_uri": "https://localhost:8080/"
        },
        "id": "VnISNZ5362tg",
        "outputId": "6cfd56d6-0760-4ac7-92f6-a04286bcd30e"
      },
      "source": [
        "co2.info()"
      ],
      "execution_count": null,
      "outputs": [
        {
          "output_type": "stream",
          "name": "stdout",
          "text": [
            "<class 'pandas.core.frame.DataFrame'>\n",
            "RangeIndex: 20853 entries, 0 to 20852\n",
            "Data columns (total 4 columns):\n",
            " #   Column                          Non-Null Count  Dtype  \n",
            "---  ------                          --------------  -----  \n",
            " 0   Entity                          20853 non-null  object \n",
            " 1   Code                            18646 non-null  object \n",
            " 2   Year                            20853 non-null  int64  \n",
            " 3   Annual CO₂ emissions (tonnes )  20853 non-null  float64\n",
            "dtypes: float64(1), int64(1), object(2)\n",
            "memory usage: 651.8+ KB\n"
          ]
        }
      ]
    },
    {
      "cell_type": "code",
      "metadata": {
        "execution": {
          "iopub.status.busy": "2021-10-18T14:43:04.667931Z",
          "iopub.execute_input": "2021-10-18T14:43:04.668278Z",
          "iopub.status.idle": "2021-10-18T14:43:04.691352Z",
          "shell.execute_reply.started": "2021-10-18T14:43:04.668250Z",
          "shell.execute_reply": "2021-10-18T14:43:04.689516Z"
        },
        "trusted": true,
        "id": "VRL6yNU862ti"
      },
      "source": [
        "co2.drop('Code',axis=1,inplace=True)"
      ],
      "execution_count": null,
      "outputs": []
    },
    {
      "cell_type": "code",
      "metadata": {
        "execution": {
          "iopub.status.busy": "2021-10-18T14:43:15.958052Z",
          "iopub.execute_input": "2021-10-18T14:43:15.958433Z",
          "iopub.status.idle": "2021-10-18T14:43:15.976498Z",
          "shell.execute_reply.started": "2021-10-18T14:43:15.958398Z",
          "shell.execute_reply": "2021-10-18T14:43:15.975373Z"
        },
        "trusted": true,
        "colab": {
          "base_uri": "https://localhost:8080/"
        },
        "id": "LJkUDCp762tj",
        "outputId": "6d8be0c9-3264-404a-b6a3-6b4a2723968f"
      },
      "source": [
        "co2.info()"
      ],
      "execution_count": null,
      "outputs": [
        {
          "output_type": "stream",
          "name": "stdout",
          "text": [
            "<class 'pandas.core.frame.DataFrame'>\n",
            "RangeIndex: 20853 entries, 0 to 20852\n",
            "Data columns (total 3 columns):\n",
            " #   Column                          Non-Null Count  Dtype  \n",
            "---  ------                          --------------  -----  \n",
            " 0   Entity                          20853 non-null  object \n",
            " 1   Year                            20853 non-null  int64  \n",
            " 2   Annual CO₂ emissions (tonnes )  20853 non-null  float64\n",
            "dtypes: float64(1), int64(1), object(1)\n",
            "memory usage: 488.9+ KB\n"
          ]
        }
      ]
    },
    {
      "cell_type": "code",
      "metadata": {
        "execution": {
          "iopub.status.busy": "2021-10-18T14:43:31.197385Z",
          "iopub.execute_input": "2021-10-18T14:43:31.197909Z",
          "iopub.status.idle": "2021-10-18T14:43:31.202324Z",
          "shell.execute_reply.started": "2021-10-18T14:43:31.197876Z",
          "shell.execute_reply": "2021-10-18T14:43:31.201555Z"
        },
        "trusted": true,
        "id": "WUoQhsGk62tk"
      },
      "source": [
        "co2.rename(columns={'Annual CO₂ emissions (tonnes )':'A_Co2_emissions(ton)'},inplace=True)"
      ],
      "execution_count": null,
      "outputs": []
    },
    {
      "cell_type": "code",
      "metadata": {
        "execution": {
          "iopub.status.busy": "2021-10-18T14:43:34.894820Z",
          "iopub.execute_input": "2021-10-18T14:43:34.895319Z",
          "iopub.status.idle": "2021-10-18T14:43:34.907555Z",
          "shell.execute_reply.started": "2021-10-18T14:43:34.895287Z",
          "shell.execute_reply": "2021-10-18T14:43:34.906570Z"
        },
        "trusted": true,
        "colab": {
          "base_uri": "https://localhost:8080/"
        },
        "id": "vw8WMR5362t-",
        "outputId": "25b3ee3f-b120-4000-ec61-64d7561d4dab"
      },
      "source": [
        "co2.info()"
      ],
      "execution_count": null,
      "outputs": [
        {
          "output_type": "stream",
          "name": "stdout",
          "text": [
            "<class 'pandas.core.frame.DataFrame'>\n",
            "RangeIndex: 20853 entries, 0 to 20852\n",
            "Data columns (total 3 columns):\n",
            " #   Column                Non-Null Count  Dtype  \n",
            "---  ------                --------------  -----  \n",
            " 0   Entity                20853 non-null  object \n",
            " 1   Year                  20853 non-null  int64  \n",
            " 2   A_Co2_emissions(ton)  20853 non-null  float64\n",
            "dtypes: float64(1), int64(1), object(1)\n",
            "memory usage: 488.9+ KB\n"
          ]
        }
      ]
    },
    {
      "cell_type": "code",
      "metadata": {
        "execution": {
          "iopub.status.busy": "2021-10-18T14:43:42.446001Z",
          "iopub.execute_input": "2021-10-18T14:43:42.446363Z",
          "iopub.status.idle": "2021-10-18T14:43:42.457146Z",
          "shell.execute_reply.started": "2021-10-18T14:43:42.446334Z",
          "shell.execute_reply": "2021-10-18T14:43:42.456404Z"
        },
        "trusted": true,
        "colab": {
          "base_uri": "https://localhost:8080/",
          "height": 203
        },
        "id": "y8jzN9sJ62uA",
        "outputId": "a5889ab8-f795-4f18-a486-2433e896866e"
      },
      "source": [
        "co2.head()"
      ],
      "execution_count": null,
      "outputs": [
        {
          "output_type": "execute_result",
          "data": {
            "text/html": [
              "<div>\n",
              "<style scoped>\n",
              "    .dataframe tbody tr th:only-of-type {\n",
              "        vertical-align: middle;\n",
              "    }\n",
              "\n",
              "    .dataframe tbody tr th {\n",
              "        vertical-align: top;\n",
              "    }\n",
              "\n",
              "    .dataframe thead th {\n",
              "        text-align: right;\n",
              "    }\n",
              "</style>\n",
              "<table border=\"1\" class=\"dataframe\">\n",
              "  <thead>\n",
              "    <tr style=\"text-align: right;\">\n",
              "      <th></th>\n",
              "      <th>Entity</th>\n",
              "      <th>Year</th>\n",
              "      <th>A_Co2_emissions(ton)</th>\n",
              "    </tr>\n",
              "  </thead>\n",
              "  <tbody>\n",
              "    <tr>\n",
              "      <th>0</th>\n",
              "      <td>Afghanistan</td>\n",
              "      <td>1949</td>\n",
              "      <td>14656.0</td>\n",
              "    </tr>\n",
              "    <tr>\n",
              "      <th>1</th>\n",
              "      <td>Afghanistan</td>\n",
              "      <td>1950</td>\n",
              "      <td>84272.0</td>\n",
              "    </tr>\n",
              "    <tr>\n",
              "      <th>2</th>\n",
              "      <td>Afghanistan</td>\n",
              "      <td>1951</td>\n",
              "      <td>91600.0</td>\n",
              "    </tr>\n",
              "    <tr>\n",
              "      <th>3</th>\n",
              "      <td>Afghanistan</td>\n",
              "      <td>1952</td>\n",
              "      <td>91600.0</td>\n",
              "    </tr>\n",
              "    <tr>\n",
              "      <th>4</th>\n",
              "      <td>Afghanistan</td>\n",
              "      <td>1953</td>\n",
              "      <td>106256.0</td>\n",
              "    </tr>\n",
              "  </tbody>\n",
              "</table>\n",
              "</div>"
            ],
            "text/plain": [
              "        Entity  Year  A_Co2_emissions(ton)\n",
              "0  Afghanistan  1949               14656.0\n",
              "1  Afghanistan  1950               84272.0\n",
              "2  Afghanistan  1951               91600.0\n",
              "3  Afghanistan  1952               91600.0\n",
              "4  Afghanistan  1953              106256.0"
            ]
          },
          "metadata": {},
          "execution_count": 11
        }
      ]
    },
    {
      "cell_type": "code",
      "metadata": {
        "execution": {
          "iopub.status.busy": "2021-10-18T14:43:49.782391Z",
          "iopub.execute_input": "2021-10-18T14:43:49.782928Z",
          "iopub.status.idle": "2021-10-18T14:43:49.792619Z",
          "shell.execute_reply.started": "2021-10-18T14:43:49.782894Z",
          "shell.execute_reply": "2021-10-18T14:43:49.791539Z"
        },
        "trusted": true,
        "colab": {
          "base_uri": "https://localhost:8080/"
        },
        "id": "WIMvBThN62uB",
        "outputId": "a02da4cc-689f-4ea7-a69f-0f15422dd9da"
      },
      "source": [
        "co2.Entity.unique()"
      ],
      "execution_count": null,
      "outputs": [
        {
          "output_type": "execute_result",
          "data": {
            "text/plain": [
              "array(['Afghanistan', 'Africa', 'Albania', 'Algeria', 'Americas (other)',\n",
              "       'Andorra', 'Angola', 'Anguilla', 'Antarctic Fisheries',\n",
              "       'Antigua and Barbuda', 'Argentina', 'Armenia', 'Aruba',\n",
              "       'Asia and Pacific (other)', 'Australia', 'Austria', 'Azerbaijan',\n",
              "       'Bahamas', 'Bahrain', 'Bangladesh', 'Barbados', 'Belarus',\n",
              "       'Belgium', 'Belize', 'Benin', 'Bermuda', 'Bhutan', 'Bolivia',\n",
              "       'Bonaire Sint Eustatius and Saba', 'Bosnia and Herzegovina',\n",
              "       'Botswana', 'Brazil', 'British Virgin Islands', 'Brunei',\n",
              "       'Bulgaria', 'Burkina Faso', 'Burundi', 'Cambodia', 'Cameroon',\n",
              "       'Canada', 'Cape Verde', 'Cayman Islands',\n",
              "       'Central African Republic', 'Chad', 'Chile', 'China',\n",
              "       'Christmas Island', 'Colombia', 'Comoros', 'Republic of the Congo',\n",
              "       'Cook Islands', 'Costa Rica', \"Cote d'Ivoire\", 'Croatia', 'Cuba',\n",
              "       'Curacao', 'Cyprus', 'Czech Republic', 'Czechoslovakia',\n",
              "       'Democratic Republic of Republic of the Congo', 'Denmark',\n",
              "       'Djibouti', 'Dominica', 'Dominican Republic', 'EU-28', 'Ecuador',\n",
              "       'Egypt', 'El Salvador', 'Equatorial Guinea', 'Eritrea', 'Estonia',\n",
              "       'Ethiopia', 'Europe (other)', 'Faeroe Islands', 'Falkland Islands',\n",
              "       'Fiji', 'Finland', 'France', 'French Guiana', 'French Polynesia',\n",
              "       'Gabon', 'Gambia', 'Georgia', 'Germany', 'Ghana', 'Gibraltar',\n",
              "       'Greece', 'Greenland', 'Grenada', 'Guadeloupe', 'Guatemala',\n",
              "       'Guinea', 'Guinea-Bissau', 'Guyana', 'Haiti', 'Honduras',\n",
              "       'Hong Kong', 'Hungary', 'Iceland', 'India', 'Indonesia',\n",
              "       'International transport', 'Iran', 'Iraq', 'Ireland', 'Israel',\n",
              "       'Italy', 'Jamaica', 'Japan', 'Jordan', 'Kazakhstan', 'Kenya',\n",
              "       'Kiribati', 'Kuwait', 'Kyrgysztan', 'Kyrgyzstan', 'Laos', 'Latvia',\n",
              "       'Lebanon', 'Lesotho', 'Liberia', 'Libya', 'Liechtenstein',\n",
              "       'Lithuania', 'Luxembourg', 'Macao', 'Macedonia', 'Madagascar',\n",
              "       'Malawi', 'Malaysia', 'Maldives', 'Mali', 'Malta',\n",
              "       'Marshall Islands', 'Martinique', 'Mauritania', 'Mauritius',\n",
              "       'Mexico', 'Micronesia (country)', 'Middle East', 'Moldova',\n",
              "       'Mongolia', 'Montenegro', 'Montserrat', 'Morocco', 'Mozambique',\n",
              "       'Myanmar', 'Namibia', 'Nauru', 'Nepal', 'Netherlands',\n",
              "       'New Caledonia', 'New Zealand', 'Nicaragua', 'Niger', 'Nigeria',\n",
              "       'Niue', 'North Korea', 'Norway', 'Oman', 'Pakistan', 'Palau',\n",
              "       'Palestine', 'Panama', 'Papua New Guinea', 'Paraguay', 'Peru',\n",
              "       'Philippines', 'Poland', 'Portugal', 'Qatar', 'Reunion', 'Romania',\n",
              "       'Russia', 'Rwanda', 'Saint Helena', 'Saint Kitts and Nevis',\n",
              "       'Saint Lucia', 'Saint Pierre and Miquelon',\n",
              "       'Saint Vincent and the Grenadines', 'Samoa',\n",
              "       'Sao Tome and Principe', 'Saudi Arabia', 'Senegal', 'Serbia',\n",
              "       'Seychelles', 'Sierra Leone', 'Singapore',\n",
              "       'Sint Maarten (Dutch part)', 'Slovakia', 'Slovenia',\n",
              "       'Solomon Islands', 'Somalia', 'South Africa', 'South Korea',\n",
              "       'South Sudan', 'Spain', 'Sri Lanka', 'Statistical differences',\n",
              "       'Sudan', 'Suriname', 'Swaziland', 'Sweden', 'Switzerland', 'Syria',\n",
              "       'Taiwan', 'Tajikistan', 'Tanzania', 'Thailand', 'Timor', 'Togo',\n",
              "       'Tonga', 'Trinidad and Tobago', 'Tunisia', 'Turkey',\n",
              "       'Turkmenistan', 'Turks and Caicos Islands', 'Tuvalu', 'Uganda',\n",
              "       'Ukraine', 'United Arab Emirates', 'United Kingdom',\n",
              "       'United States', 'Uruguay', 'Uzbekistan', 'Vanuatu', 'Venezuela',\n",
              "       'Vietnam', 'Wallis and Futuna Islands', 'World', 'Yemen', 'Zambia',\n",
              "       'Zimbabwe'], dtype=object)"
            ]
          },
          "metadata": {},
          "execution_count": 12
        }
      ]
    },
    {
      "cell_type": "code",
      "metadata": {
        "execution": {
          "iopub.status.busy": "2021-10-18T14:44:29.676168Z",
          "iopub.execute_input": "2021-10-18T14:44:29.676827Z",
          "iopub.status.idle": "2021-10-18T14:44:29.682517Z",
          "shell.execute_reply.started": "2021-10-18T14:44:29.676783Z",
          "shell.execute_reply": "2021-10-18T14:44:29.681755Z"
        },
        "trusted": true,
        "id": "5sIVvvou62uC"
      },
      "source": [
        "co2.rename(columns={'Entity':'Country'},inplace=True)"
      ],
      "execution_count": null,
      "outputs": []
    },
    {
      "cell_type": "code",
      "metadata": {
        "execution": {
          "iopub.status.busy": "2021-10-18T14:44:32.299968Z",
          "iopub.execute_input": "2021-10-18T14:44:32.300333Z",
          "iopub.status.idle": "2021-10-18T14:44:32.313964Z",
          "shell.execute_reply.started": "2021-10-18T14:44:32.300289Z",
          "shell.execute_reply": "2021-10-18T14:44:32.313028Z"
        },
        "trusted": true,
        "colab": {
          "base_uri": "https://localhost:8080/"
        },
        "id": "BhiCgLSG62uD",
        "outputId": "2e99c660-1e12-4ffd-cb59-1855228cd27c"
      },
      "source": [
        "co2.info()"
      ],
      "execution_count": null,
      "outputs": [
        {
          "output_type": "stream",
          "name": "stdout",
          "text": [
            "<class 'pandas.core.frame.DataFrame'>\n",
            "RangeIndex: 20853 entries, 0 to 20852\n",
            "Data columns (total 3 columns):\n",
            " #   Column                Non-Null Count  Dtype  \n",
            "---  ------                --------------  -----  \n",
            " 0   Country               20853 non-null  object \n",
            " 1   Year                  20853 non-null  int64  \n",
            " 2   A_Co2_emissions(ton)  20853 non-null  float64\n",
            "dtypes: float64(1), int64(1), object(1)\n",
            "memory usage: 488.9+ KB\n"
          ]
        }
      ]
    },
    {
      "cell_type": "code",
      "metadata": {
        "execution": {
          "iopub.status.busy": "2021-10-18T14:44:41.336650Z",
          "iopub.execute_input": "2021-10-18T14:44:41.337005Z",
          "iopub.status.idle": "2021-10-18T14:44:41.343459Z",
          "shell.execute_reply.started": "2021-10-18T14:44:41.336971Z",
          "shell.execute_reply": "2021-10-18T14:44:41.342791Z"
        },
        "trusted": true,
        "colab": {
          "base_uri": "https://localhost:8080/"
        },
        "id": "W0wSUkFD62uE",
        "outputId": "f0986a28-4431-4eea-9104-cac50cf8c5fe"
      },
      "source": [
        "co2.Year.unique()"
      ],
      "execution_count": null,
      "outputs": [
        {
          "output_type": "execute_result",
          "data": {
            "text/plain": [
              "array([1949, 1950, 1951, 1952, 1953, 1954, 1955, 1956, 1957, 1958, 1959,\n",
              "       1960, 1961, 1962, 1963, 1964, 1965, 1966, 1967, 1968, 1969, 1970,\n",
              "       1971, 1972, 1973, 1974, 1975, 1976, 1977, 1978, 1979, 1980, 1981,\n",
              "       1982, 1983, 1984, 1985, 1986, 1987, 1988, 1989, 1990, 1991, 1992,\n",
              "       1993, 1994, 1995, 1996, 1997, 1998, 1999, 2000, 2001, 2002, 2003,\n",
              "       2004, 2005, 2006, 2007, 2008, 2009, 2010, 2011, 2012, 2013, 2014,\n",
              "       2015, 2016, 2017, 1751, 1752, 1753, 1754, 1755, 1756, 1757, 1758,\n",
              "       1759, 1760, 1761, 1762, 1763, 1764, 1765, 1766, 1767, 1768, 1769,\n",
              "       1770, 1771, 1772, 1773, 1774, 1775, 1776, 1777, 1778, 1779, 1780,\n",
              "       1781, 1782, 1783, 1784, 1785, 1786, 1787, 1788, 1789, 1790, 1791,\n",
              "       1792, 1793, 1794, 1795, 1796, 1797, 1798, 1799, 1800, 1801, 1802,\n",
              "       1803, 1804, 1805, 1806, 1807, 1808, 1809, 1810, 1811, 1812, 1813,\n",
              "       1814, 1815, 1816, 1817, 1818, 1819, 1820, 1821, 1822, 1823, 1824,\n",
              "       1825, 1826, 1827, 1828, 1829, 1830, 1831, 1832, 1833, 1834, 1835,\n",
              "       1836, 1837, 1838, 1839, 1840, 1841, 1842, 1843, 1844, 1845, 1846,\n",
              "       1847, 1848, 1849, 1850, 1851, 1852, 1853, 1854, 1855, 1856, 1857,\n",
              "       1858, 1859, 1860, 1861, 1862, 1863, 1864, 1865, 1866, 1867, 1868,\n",
              "       1869, 1870, 1871, 1872, 1873, 1874, 1875, 1876, 1877, 1878, 1879,\n",
              "       1880, 1881, 1882, 1883, 1884, 1885, 1886, 1887, 1888, 1889, 1890,\n",
              "       1891, 1892, 1893, 1894, 1895, 1896, 1897, 1898, 1899, 1900, 1901,\n",
              "       1902, 1903, 1904, 1905, 1906, 1907, 1908, 1909, 1910, 1911, 1912,\n",
              "       1913, 1914, 1915, 1916, 1917, 1918, 1919, 1920, 1921, 1922, 1923,\n",
              "       1924, 1925, 1926, 1927, 1928, 1929, 1930, 1931, 1932, 1933, 1934,\n",
              "       1935, 1936, 1937, 1938, 1939, 1940, 1941, 1942, 1943, 1944, 1945,\n",
              "       1946, 1947, 1948])"
            ]
          },
          "metadata": {},
          "execution_count": 15
        }
      ]
    },
    {
      "cell_type": "code",
      "metadata": {
        "execution": {
          "iopub.status.busy": "2021-10-18T14:44:48.193029Z",
          "iopub.execute_input": "2021-10-18T14:44:48.193500Z",
          "iopub.status.idle": "2021-10-18T14:44:48.199485Z",
          "shell.execute_reply.started": "2021-10-18T14:44:48.193469Z",
          "shell.execute_reply": "2021-10-18T14:44:48.198556Z"
        },
        "trusted": true,
        "colab": {
          "base_uri": "https://localhost:8080/"
        },
        "id": "MSVoATYa62uF",
        "outputId": "2468a212-720f-4f8b-e397-bdf40bb21b09"
      },
      "source": [
        "co2.Year.min()"
      ],
      "execution_count": null,
      "outputs": [
        {
          "output_type": "execute_result",
          "data": {
            "text/plain": [
              "1751"
            ]
          },
          "metadata": {},
          "execution_count": 16
        }
      ]
    },
    {
      "cell_type": "code",
      "metadata": {
        "execution": {
          "iopub.status.busy": "2021-10-18T14:44:57.032031Z",
          "iopub.execute_input": "2021-10-18T14:44:57.032356Z",
          "iopub.status.idle": "2021-10-18T14:44:57.039061Z",
          "shell.execute_reply.started": "2021-10-18T14:44:57.032330Z",
          "shell.execute_reply": "2021-10-18T14:44:57.038181Z"
        },
        "trusted": true,
        "colab": {
          "base_uri": "https://localhost:8080/"
        },
        "id": "aOEw3zOF62uH",
        "outputId": "cffb6e17-5758-49b1-d17d-120ced4d43be"
      },
      "source": [
        "co2.Year.max()"
      ],
      "execution_count": null,
      "outputs": [
        {
          "output_type": "execute_result",
          "data": {
            "text/plain": [
              "2017"
            ]
          },
          "metadata": {},
          "execution_count": 17
        }
      ]
    },
    {
      "cell_type": "code",
      "metadata": {
        "execution": {
          "iopub.status.busy": "2021-10-18T14:45:03.438181Z",
          "iopub.execute_input": "2021-10-18T14:45:03.438829Z",
          "iopub.status.idle": "2021-10-18T14:45:03.446365Z",
          "shell.execute_reply.started": "2021-10-18T14:45:03.438715Z",
          "shell.execute_reply": "2021-10-18T14:45:03.445273Z"
        },
        "trusted": true,
        "colab": {
          "base_uri": "https://localhost:8080/"
        },
        "id": "ZbQp_XaU62uI",
        "outputId": "24c5b68c-2a5c-47b9-e677-c73b24c6f0d4"
      },
      "source": [
        "co2['A_Co2_emissions(ton)'].max()"
      ],
      "execution_count": null,
      "outputs": [
        {
          "output_type": "execute_result",
          "data": {
            "text/plain": [
              "36153261645.0"
            ]
          },
          "metadata": {},
          "execution_count": 18
        }
      ]
    },
    {
      "cell_type": "code",
      "metadata": {
        "execution": {
          "iopub.status.busy": "2021-10-18T14:45:11.879147Z",
          "iopub.execute_input": "2021-10-18T14:45:11.879734Z",
          "iopub.status.idle": "2021-10-18T14:45:11.886884Z",
          "shell.execute_reply.started": "2021-10-18T14:45:11.879685Z",
          "shell.execute_reply": "2021-10-18T14:45:11.885676Z"
        },
        "trusted": true,
        "colab": {
          "base_uri": "https://localhost:8080/"
        },
        "id": "GxTTB38Y62uJ",
        "outputId": "afd81128-d904-4ead-a694-86a9f456a19c"
      },
      "source": [
        "co2['A_Co2_emissions(ton)'].min()"
      ],
      "execution_count": null,
      "outputs": [
        {
          "output_type": "execute_result",
          "data": {
            "text/plain": [
              "-625522256.7"
            ]
          },
          "metadata": {},
          "execution_count": 19
        }
      ]
    },
    {
      "cell_type": "code",
      "metadata": {
        "execution": {
          "iopub.status.busy": "2021-10-18T14:45:28.118338Z",
          "iopub.execute_input": "2021-10-18T14:45:28.118716Z",
          "iopub.status.idle": "2021-10-18T14:45:28.126610Z",
          "shell.execute_reply.started": "2021-10-18T14:45:28.118683Z",
          "shell.execute_reply": "2021-10-18T14:45:28.125493Z"
        },
        "trusted": true,
        "id": "DjS4fdcq62uK"
      },
      "source": [
        "condition=co2['A_Co2_emissions(ton)']>=0\n",
        "df=co2[condition]"
      ],
      "execution_count": null,
      "outputs": []
    },
    {
      "cell_type": "code",
      "metadata": {
        "execution": {
          "iopub.status.busy": "2021-10-18T14:45:31.854752Z",
          "iopub.execute_input": "2021-10-18T14:45:31.855104Z",
          "iopub.status.idle": "2021-10-18T14:45:31.862425Z",
          "shell.execute_reply.started": "2021-10-18T14:45:31.855074Z",
          "shell.execute_reply": "2021-10-18T14:45:31.861314Z"
        },
        "trusted": true,
        "colab": {
          "base_uri": "https://localhost:8080/"
        },
        "id": "RfDPdRJW62uM",
        "outputId": "18bbabc8-b7cb-432f-fb66-d3519e4db653"
      },
      "source": [
        "\n",
        "df['A_Co2_emissions(ton)'].min()"
      ],
      "execution_count": null,
      "outputs": [
        {
          "output_type": "execute_result",
          "data": {
            "text/plain": [
              "0.0"
            ]
          },
          "metadata": {},
          "execution_count": 21
        }
      ]
    },
    {
      "cell_type": "code",
      "metadata": {
        "execution": {
          "iopub.status.busy": "2021-10-18T14:45:45.343561Z",
          "iopub.execute_input": "2021-10-18T14:45:45.343948Z",
          "iopub.status.idle": "2021-10-18T14:45:45.350568Z",
          "shell.execute_reply.started": "2021-10-18T14:45:45.343917Z",
          "shell.execute_reply": "2021-10-18T14:45:45.349673Z"
        },
        "trusted": true,
        "colab": {
          "base_uri": "https://localhost:8080/"
        },
        "id": "J27k1L1G62uN",
        "outputId": "4ba685af-9939-460e-bdb0-d14bbbcc1e5d"
      },
      "source": [
        "df['A_Co2_emissions(ton)'].max()"
      ],
      "execution_count": null,
      "outputs": [
        {
          "output_type": "execute_result",
          "data": {
            "text/plain": [
              "36153261645.0"
            ]
          },
          "metadata": {},
          "execution_count": 22
        }
      ]
    },
    {
      "cell_type": "code",
      "metadata": {
        "execution": {
          "iopub.status.busy": "2021-10-18T14:45:49.406827Z",
          "iopub.execute_input": "2021-10-18T14:45:49.407222Z",
          "iopub.status.idle": "2021-10-18T14:45:49.420717Z",
          "shell.execute_reply.started": "2021-10-18T14:45:49.407191Z",
          "shell.execute_reply": "2021-10-18T14:45:49.419581Z"
        },
        "trusted": true,
        "colab": {
          "base_uri": "https://localhost:8080/"
        },
        "id": "g5_bgkTt62uN",
        "outputId": "a6e93c4e-6af3-4ca7-f136-2da42a936ede"
      },
      "source": [
        "df.info()"
      ],
      "execution_count": null,
      "outputs": [
        {
          "output_type": "stream",
          "name": "stdout",
          "text": [
            "<class 'pandas.core.frame.DataFrame'>\n",
            "Int64Index: 20813 entries, 0 to 20852\n",
            "Data columns (total 3 columns):\n",
            " #   Column                Non-Null Count  Dtype  \n",
            "---  ------                --------------  -----  \n",
            " 0   Country               20813 non-null  object \n",
            " 1   Year                  20813 non-null  int64  \n",
            " 2   A_Co2_emissions(ton)  20813 non-null  float64\n",
            "dtypes: float64(1), int64(1), object(1)\n",
            "memory usage: 650.4+ KB\n"
          ]
        }
      ]
    },
    {
      "cell_type": "code",
      "metadata": {
        "execution": {
          "iopub.status.busy": "2021-10-18T14:45:59.924774Z",
          "iopub.execute_input": "2021-10-18T14:45:59.925138Z",
          "iopub.status.idle": "2021-10-18T14:46:00.228498Z",
          "shell.execute_reply.started": "2021-10-18T14:45:59.925108Z",
          "shell.execute_reply": "2021-10-18T14:46:00.227283Z"
        },
        "trusted": true,
        "colab": {
          "base_uri": "https://localhost:8080/",
          "height": 334
        },
        "id": "sbWJaOGp62uP",
        "outputId": "d3fb871e-283a-416b-c2c7-74af23b56b5c"
      },
      "source": [
        "sns.distplot(df['A_Co2_emissions(ton)'],kde=False)\n",
        "plt.show()\n"
      ],
      "execution_count": null,
      "outputs": [
        {
          "output_type": "stream",
          "name": "stderr",
          "text": [
            "/usr/local/lib/python3.7/dist-packages/seaborn/distributions.py:2619: FutureWarning: `distplot` is a deprecated function and will be removed in a future version. Please adapt your code to use either `displot` (a figure-level function with similar flexibility) or `histplot` (an axes-level function for histograms).\n",
            "  warnings.warn(msg, FutureWarning)\n"
          ]
        },
        {
          "output_type": "display_data",
          "data": {
            "image/png": "[encoded data removed]",
            "text/plain": [
              "<Figure size 432x288 with 1 Axes>"
            ]
          },
          "metadata": {
            "needs_background": "light"
          }
        }
      ]
    },
    {
      "cell_type": "code",
      "metadata": {
        "execution": {
          "iopub.status.busy": "2021-10-18T14:46:16.303882Z",
          "iopub.execute_input": "2021-10-18T14:46:16.304240Z",
          "iopub.status.idle": "2021-10-18T14:46:16.319822Z",
          "shell.execute_reply.started": "2021-10-18T14:46:16.304210Z",
          "shell.execute_reply": "2021-10-18T14:46:16.318902Z"
        },
        "trusted": true,
        "colab": {
          "base_uri": "https://localhost:8080/"
        },
        "id": "EAISF5Ay62uQ",
        "outputId": "8dc9a915-5c26-45d3-d474-65ae1eae30d2"
      },
      "source": [
        "df.groupby('Country')['A_Co2_emissions(ton)'].sum().sort_values(ascending=False)"
      ],
      "execution_count": null,
      "outputs": [
        {
          "output_type": "execute_result",
          "data": {
            "text/plain": [
              "Country\n",
              "World                       1.575244e+12\n",
              "United States               3.993783e+11\n",
              "EU-28                       3.528583e+11\n",
              "China                       2.001365e+11\n",
              "Asia and Pacific (other)    1.780573e+11\n",
              "                                ...     \n",
              "Saint Helena                3.463088e+05\n",
              "Niue                        2.715786e+05\n",
              "Tuvalu                      2.569226e+05\n",
              "Antarctic Fisheries         1.538880e+05\n",
              "Kyrgysztan                  0.000000e+00\n",
              "Name: A_Co2_emissions(ton), Length: 233, dtype: float64"
            ]
          },
          "metadata": {},
          "execution_count": 27
        }
      ]
    },
    {
      "cell_type": "code",
      "metadata": {
        "execution": {
          "iopub.status.busy": "2021-10-18T14:46:33.425538Z",
          "iopub.execute_input": "2021-10-18T14:46:33.425935Z",
          "iopub.status.idle": "2021-10-18T14:46:33.437739Z",
          "shell.execute_reply.started": "2021-10-18T14:46:33.425905Z",
          "shell.execute_reply": "2021-10-18T14:46:33.436849Z"
        },
        "trusted": true,
        "colab": {
          "base_uri": "https://localhost:8080/"
        },
        "id": "ItjMP2Ic62uR",
        "outputId": "7418d182-3354-456e-dfc6-aaa5ab5f1798"
      },
      "source": [
        "df.groupby('Country')['A_Co2_emissions(ton)'].sum().sort_values(ascending=False)[1:6]"
      ],
      "execution_count": null,
      "outputs": [
        {
          "output_type": "execute_result",
          "data": {
            "text/plain": [
              "Country\n",
              "United States               3.993783e+11\n",
              "EU-28                       3.528583e+11\n",
              "China                       2.001365e+11\n",
              "Asia and Pacific (other)    1.780573e+11\n",
              "Europe (other)              1.575402e+11\n",
              "Name: A_Co2_emissions(ton), dtype: float64"
            ]
          },
          "metadata": {},
          "execution_count": 25
        }
      ]
    },
    {
      "cell_type": "code",
      "metadata": {
        "execution": {
          "iopub.status.busy": "2021-10-18T14:46:54.027687Z",
          "iopub.execute_input": "2021-10-18T14:46:54.028062Z",
          "iopub.status.idle": "2021-10-18T14:46:54.235181Z",
          "shell.execute_reply.started": "2021-10-18T14:46:54.028029Z",
          "shell.execute_reply": "2021-10-18T14:46:54.233906Z"
        },
        "trusted": true,
        "colab": {
          "base_uri": "https://localhost:8080/",
          "height": 488
        },
        "id": "TenhLHJj62uS",
        "outputId": "58b7068e-d140-4616-8fd5-919af78c578b"
      },
      "source": [
        "plt.style.use('seaborn')\n",
        "df.groupby('Country')['A_Co2_emissions(ton)'].sum().sort_values(ascending=False)[1:6].plot(kind='bar')\n",
        "plt.title('Top 5 Countries in co2 emission from 1751 to 2017',fontweight='bold',fontsize=14)\n",
        "plt.ylabel('CO2 Emissions in Ton')"
      ],
      "execution_count": null,
      "outputs": [
        {
          "output_type": "execute_result",
          "data": {
            "text/plain": [
              "Text(0, 0.5, 'CO2 Emissions in Ton')"
            ]
          },
          "metadata": {},
          "execution_count": 26
        },
        {
          "output_type": "display_data",
          "data": {
            "image/png": "[encoded data removed]",
            "text/plain": [
              "<Figure size 576x396 with 1 Axes>"
            ]
          },
          "metadata": {}
        }
      ]
    },
    {
      "cell_type": "markdown",
      "metadata": {
        "id": "VHEhMJW362uU"
      },
      "source": [
        "## Now we will classify our data into time periods and analyze each one of them\n",
        "- Period1 smaller than or equal 1800 ( from 1751 to 1800)\n",
        "- Period2 smaller than or equal 1850 and greater than 1800 ( 1801 to 1850)\n",
        "- Period3 smaller than or equal 1900 and greater than 1850 ( 1851 to 1900)\n",
        "- Period4 smaller than or equal 1950 and greater than 1900 ( 1901 to 1950)\n",
        "- Period5 smaller than or equal 2000 and greater than 1950 ( 1951 to 2000)\n",
        "- Period6 greater than 2000"
      ]
    },
    {
      "cell_type": "code",
      "metadata": {
        "execution": {
          "iopub.status.busy": "2021-10-18T14:47:33.146621Z",
          "iopub.execute_input": "2021-10-18T14:47:33.146979Z",
          "iopub.status.idle": "2021-10-18T14:47:33.152287Z",
          "shell.execute_reply.started": "2021-10-18T14:47:33.146948Z",
          "shell.execute_reply": "2021-10-18T14:47:33.151539Z"
        },
        "trusted": true,
        "id": "SPOOsqpZ62uV"
      },
      "source": [
        "p1_c1=df['Year']<=1800"
      ],
      "execution_count": null,
      "outputs": []
    },
    {
      "cell_type": "code",
      "metadata": {
        "execution": {
          "iopub.status.busy": "2021-10-18T14:47:39.434668Z",
          "iopub.execute_input": "2021-10-18T14:47:39.435185Z",
          "iopub.status.idle": "2021-10-18T14:47:39.439307Z",
          "shell.execute_reply.started": "2021-10-18T14:47:39.435156Z",
          "shell.execute_reply": "2021-10-18T14:47:39.438631Z"
        },
        "trusted": true,
        "id": "KmhXXwjq62uW"
      },
      "source": [
        "period1=df[p1_c1]"
      ],
      "execution_count": null,
      "outputs": []
    },
    {
      "cell_type": "code",
      "metadata": {
        "execution": {
          "iopub.status.busy": "2021-10-18T14:48:03.274335Z",
          "iopub.execute_input": "2021-10-18T14:48:03.274721Z",
          "iopub.status.idle": "2021-10-18T14:48:03.280087Z",
          "shell.execute_reply.started": "2021-10-18T14:48:03.274691Z",
          "shell.execute_reply": "2021-10-18T14:48:03.279174Z"
        },
        "trusted": true,
        "id": "f-Pbuht_62uX"
      },
      "source": [
        "p2_c1=df['Year']<=1850\n",
        "p2_c2=df['Year']>1800"
      ],
      "execution_count": null,
      "outputs": []
    },
    {
      "cell_type": "code",
      "metadata": {
        "execution": {
          "iopub.status.busy": "2021-10-18T14:49:47.587663Z",
          "iopub.execute_input": "2021-10-18T14:49:47.588048Z",
          "iopub.status.idle": "2021-10-18T14:49:47.593668Z",
          "shell.execute_reply.started": "2021-10-18T14:49:47.588020Z",
          "shell.execute_reply": "2021-10-18T14:49:47.592487Z"
        },
        "trusted": true,
        "id": "O80B5KIn62uY"
      },
      "source": [
        "\n",
        "period2=df[p2_c1&p2_c2]"
      ],
      "execution_count": null,
      "outputs": []
    },
    {
      "cell_type": "code",
      "metadata": {
        "execution": {
          "iopub.status.busy": "2021-10-18T14:49:44.661225Z",
          "iopub.execute_input": "2021-10-18T14:49:44.661610Z",
          "iopub.status.idle": "2021-10-18T14:49:44.667665Z",
          "shell.execute_reply.started": "2021-10-18T14:49:44.661578Z",
          "shell.execute_reply": "2021-10-18T14:49:44.666609Z"
        },
        "trusted": true,
        "id": "T3tzQw6U62uZ"
      },
      "source": [
        "p3_c1=df['Year']<=1900\n",
        "p3_c2=df['Year']>1850"
      ],
      "execution_count": null,
      "outputs": []
    },
    {
      "cell_type": "code",
      "metadata": {
        "execution": {
          "iopub.status.busy": "2021-10-18T14:49:52.396076Z",
          "iopub.execute_input": "2021-10-18T14:49:52.396429Z",
          "iopub.status.idle": "2021-10-18T14:49:52.402349Z",
          "shell.execute_reply.started": "2021-10-18T14:49:52.396399Z",
          "shell.execute_reply": "2021-10-18T14:49:52.401353Z"
        },
        "trusted": true,
        "id": "i9wcmLfB62ua"
      },
      "source": [
        "period3=df[p3_c1&p3_c2]"
      ],
      "execution_count": null,
      "outputs": []
    },
    {
      "cell_type": "code",
      "metadata": {
        "execution": {
          "iopub.status.busy": "2021-10-18T14:49:56.419703Z",
          "iopub.execute_input": "2021-10-18T14:49:56.420065Z",
          "iopub.status.idle": "2021-10-18T14:49:56.425996Z",
          "shell.execute_reply.started": "2021-10-18T14:49:56.420035Z",
          "shell.execute_reply": "2021-10-18T14:49:56.424893Z"
        },
        "trusted": true,
        "id": "2X187zwr62ua"
      },
      "source": [
        "p4_c1=df['Year']<=1950\n",
        "p4_c2=df['Year']>1900"
      ],
      "execution_count": null,
      "outputs": []
    },
    {
      "cell_type": "code",
      "metadata": {
        "execution": {
          "iopub.status.busy": "2021-10-18T14:50:01.959234Z",
          "iopub.execute_input": "2021-10-18T14:50:01.959594Z",
          "iopub.status.idle": "2021-10-18T14:50:01.964754Z",
          "shell.execute_reply.started": "2021-10-18T14:50:01.959564Z",
          "shell.execute_reply": "2021-10-18T14:50:01.963988Z"
        },
        "trusted": true,
        "id": "KrE_Pf6H62uc"
      },
      "source": [
        "period4=df[p4_c1&p4_c2]"
      ],
      "execution_count": null,
      "outputs": []
    },
    {
      "cell_type": "code",
      "metadata": {
        "execution": {
          "iopub.status.busy": "2021-10-18T14:50:04.975176Z",
          "iopub.execute_input": "2021-10-18T14:50:04.975649Z",
          "iopub.status.idle": "2021-10-18T14:50:04.980420Z",
          "shell.execute_reply.started": "2021-10-18T14:50:04.975617Z",
          "shell.execute_reply": "2021-10-18T14:50:04.979512Z"
        },
        "trusted": true,
        "id": "3-9Pd6NE62ud"
      },
      "source": [
        "\n",
        "p5_c1=df['Year']<=2000\n",
        "p5_c2=df['Year']>1950"
      ],
      "execution_count": null,
      "outputs": []
    },
    {
      "cell_type": "code",
      "metadata": {
        "execution": {
          "iopub.status.busy": "2021-10-18T14:50:09.699736Z",
          "iopub.execute_input": "2021-10-18T14:50:09.700269Z",
          "iopub.status.idle": "2021-10-18T14:50:09.707040Z",
          "shell.execute_reply.started": "2021-10-18T14:50:09.700237Z",
          "shell.execute_reply": "2021-10-18T14:50:09.706155Z"
        },
        "trusted": true,
        "id": "x7eD1YDF62ue"
      },
      "source": [
        "period5=df[p5_c1&p5_c2]"
      ],
      "execution_count": null,
      "outputs": []
    },
    {
      "cell_type": "code",
      "metadata": {
        "execution": {
          "iopub.status.busy": "2021-10-18T14:50:13.114462Z",
          "iopub.execute_input": "2021-10-18T14:50:13.115042Z",
          "iopub.status.idle": "2021-10-18T14:50:13.121004Z",
          "shell.execute_reply.started": "2021-10-18T14:50:13.114988Z",
          "shell.execute_reply": "2021-10-18T14:50:13.120093Z"
        },
        "trusted": true,
        "id": "qA5R9mgq62uf"
      },
      "source": [
        "p6_c1=df['Year']>2000"
      ],
      "execution_count": null,
      "outputs": []
    },
    {
      "cell_type": "code",
      "metadata": {
        "execution": {
          "iopub.status.busy": "2021-10-18T14:50:18.391787Z",
          "iopub.execute_input": "2021-10-18T14:50:18.392361Z",
          "iopub.status.idle": "2021-10-18T14:50:18.399187Z",
          "shell.execute_reply.started": "2021-10-18T14:50:18.392311Z",
          "shell.execute_reply": "2021-10-18T14:50:18.398097Z"
        },
        "trusted": true,
        "id": "UUnJKFzg62ug"
      },
      "source": [
        "period6=df[p6_c1]"
      ],
      "execution_count": null,
      "outputs": []
    },
    {
      "cell_type": "markdown",
      "metadata": {
        "id": "wWvhDHxd62uh"
      },
      "source": [
        "## Now let's see Co2 emissions in each period grouped by country"
      ]
    },
    {
      "cell_type": "markdown",
      "metadata": {
        "id": "GXJpoBXM62ui"
      },
      "source": [
        "### Period 1 from year 1751 to 1800"
      ]
    },
    {
      "cell_type": "code",
      "metadata": {
        "execution": {
          "iopub.status.busy": "2021-10-18T14:50:25.465765Z",
          "iopub.execute_input": "2021-10-18T14:50:25.466331Z",
          "iopub.status.idle": "2021-10-18T14:50:25.717307Z",
          "shell.execute_reply.started": "2021-10-18T14:50:25.466270Z",
          "shell.execute_reply": "2021-10-18T14:50:25.716593Z"
        },
        "trusted": true,
        "colab": {
          "base_uri": "https://localhost:8080/",
          "height": 430
        },
        "id": "J8NZ2WBv62uj",
        "outputId": "752e429b-7e22-4e53-ff0f-1dd882d9d90c"
      },
      "source": [
        "sns.distplot(period1['A_Co2_emissions(ton)'],kde=False).set_title('Co2 emissions from 1751 to 1800 Histogram')\n",
        "plt.ylabel('CO2 emissions in Tonnes')\n",
        "plt.show()"
      ],
      "execution_count": null,
      "outputs": [
        {
          "output_type": "stream",
          "name": "stderr",
          "text": [
            "/usr/local/lib/python3.7/dist-packages/seaborn/distributions.py:2619: FutureWarning: `distplot` is a deprecated function and will be removed in a future version. Please adapt your code to use either `displot` (a figure-level function with similar flexibility) or `histplot` (an axes-level function for histograms).\n",
            "  warnings.warn(msg, FutureWarning)\n"
          ]
        },
        {
          "output_type": "display_data",
          "data": {
            "image/png": "[encoded data removed]",
            "text/plain": [
              "<Figure size 576x396 with 1 Axes>"
            ]
          },
          "metadata": {}
        }
      ]
    },
    {
      "cell_type": "code",
      "metadata": {
        "execution": {
          "iopub.status.busy": "2021-10-18T14:51:00.838014Z",
          "iopub.execute_input": "2021-10-18T14:51:00.838561Z",
          "iopub.status.idle": "2021-10-18T14:51:00.849113Z",
          "shell.execute_reply.started": "2021-10-18T14:51:00.838497Z",
          "shell.execute_reply": "2021-10-18T14:51:00.848106Z"
        },
        "trusted": true,
        "colab": {
          "base_uri": "https://localhost:8080/"
        },
        "id": "AgE0p7Of62uj",
        "outputId": "ac0c5042-8dc1-414e-bedf-b4a88714ede1"
      },
      "source": [
        "period1.groupby('Country')['A_Co2_emissions(ton)'].sum().sort_values(ascending=False)"
      ],
      "execution_count": null,
      "outputs": [
        {
          "output_type": "execute_result",
          "data": {
            "text/plain": [
              "Country\n",
              "World                       772162352.0\n",
              "EU-28                       771850912.0\n",
              "United Kingdom              766523456.0\n",
              "Germany                       4920752.0\n",
              "Poland                         406704.0\n",
              "United States                  252816.0\n",
              "Canada                          58624.0\n",
              "Americas (other)                58624.0\n",
              "Statistical differences             0.0\n",
              "Middle East                         0.0\n",
              "International transport             0.0\n",
              "India                               0.0\n",
              "Europe (other)                      0.0\n",
              "China                               0.0\n",
              "Asia and Pacific (other)            0.0\n",
              "Africa                              0.0\n",
              "Name: A_Co2_emissions(ton), dtype: float64"
            ]
          },
          "metadata": {},
          "execution_count": 40
        }
      ]
    },
    {
      "cell_type": "code",
      "metadata": {
        "execution": {
          "iopub.status.busy": "2021-10-18T14:51:27.272116Z",
          "iopub.execute_input": "2021-10-18T14:51:27.272675Z",
          "iopub.status.idle": "2021-10-18T14:51:27.487200Z",
          "shell.execute_reply.started": "2021-10-18T14:51:27.272634Z",
          "shell.execute_reply": "2021-10-18T14:51:27.486120Z"
        },
        "trusted": true,
        "colab": {
          "base_uri": "https://localhost:8080/",
          "height": 480
        },
        "id": "7-VBuMgr62uk",
        "outputId": "ecc1272c-2e1a-4ca5-8ed0-375e7c12f4a1"
      },
      "source": [
        "plt.style.use('seaborn')\n",
        "period1.groupby('Country')['A_Co2_emissions(ton)'].sum().sort_values(ascending=False)[1:11].plot(kind='bar')\n",
        "plt.ylabel('CO2 Emissions in tonnes')\n",
        "plt.title('Co2 emissions from year 1751 to 1800 by country',fontweight='bold')"
      ],
      "execution_count": null,
      "outputs": [
        {
          "output_type": "execute_result",
          "data": {
            "text/plain": [
              "Text(0.5, 1.0, 'Co2 emissions from year 1751 to 1800 by country')"
            ]
          },
          "metadata": {},
          "execution_count": 41
        },
        {
          "output_type": "display_data",
          "data": {
            "image/png": "[encoded data removed]",
            "text/plain": [
              "<Figure size 576x396 with 1 Axes>"
            ]
          },
          "metadata": {}
        }
      ]
    },
    {
      "cell_type": "code",
      "metadata": {
        "execution": {
          "iopub.status.busy": "2021-10-18T14:52:01.386248Z",
          "iopub.execute_input": "2021-10-18T14:52:01.386798Z",
          "iopub.status.idle": "2021-10-18T14:52:01.395634Z",
          "shell.execute_reply.started": "2021-10-18T14:52:01.386750Z",
          "shell.execute_reply": "2021-10-18T14:52:01.394354Z"
        },
        "trusted": true,
        "colab": {
          "base_uri": "https://localhost:8080/"
        },
        "id": "Lcl1_oB862um",
        "outputId": "96427b34-e6d1-4dff-a570-76af3ff8217c"
      },
      "source": [
        "co2_1751_to1800=period1['A_Co2_emissions(ton)'].sum()\n",
        "period1['A_Co2_emissions(ton)'].sum()"
      ],
      "execution_count": null,
      "outputs": [
        {
          "output_type": "execute_result",
          "data": {
            "text/plain": [
              "2316234240.0"
            ]
          },
          "metadata": {},
          "execution_count": 42
        }
      ]
    },
    {
      "cell_type": "markdown",
      "metadata": {
        "id": "NJ0Kjhyk62um"
      },
      "source": [
        "## Period 2 from 1801 to 1850"
      ]
    },
    {
      "cell_type": "code",
      "metadata": {
        "execution": {
          "iopub.status.busy": "2021-10-18T14:52:13.969700Z",
          "iopub.execute_input": "2021-10-18T14:52:13.970242Z",
          "iopub.status.idle": "2021-10-18T14:52:14.316633Z",
          "shell.execute_reply.started": "2021-10-18T14:52:13.970209Z",
          "shell.execute_reply": "2021-10-18T14:52:14.315671Z"
        },
        "trusted": true,
        "colab": {
          "base_uri": "https://localhost:8080/",
          "height": 430
        },
        "id": "BCmxQbmQ62un",
        "outputId": "34f2e0f4-1821-42e7-e987-18952ec60737"
      },
      "source": [
        "sns.distplot(period2['A_Co2_emissions(ton)'],kde=False).set_title('Co2 emissions from 1801 to 1850 Histogram')\n",
        "plt.ylabel('CO2 Emissions per tonnes')\n",
        "plt.show()"
      ],
      "execution_count": null,
      "outputs": [
        {
          "output_type": "stream",
          "name": "stderr",
          "text": [
            "/usr/local/lib/python3.7/dist-packages/seaborn/distributions.py:2619: FutureWarning: `distplot` is a deprecated function and will be removed in a future version. Please adapt your code to use either `displot` (a figure-level function with similar flexibility) or `histplot` (an axes-level function for histograms).\n",
            "  warnings.warn(msg, FutureWarning)\n"
          ]
        },
        {
          "output_type": "display_data",
          "data": {
            "image/png": "[encoded data removed]",
            "text/plain": [
              "<Figure size 576x396 with 1 Axes>"
            ]
          },
          "metadata": {}
        }
      ]
    },
    {
      "cell_type": "code",
      "metadata": {
        "trusted": true,
        "colab": {
          "base_uri": "https://localhost:8080/"
        },
        "id": "Pt3A-EbT62un",
        "outputId": "a85cba10-d5dc-4e15-8c12-cc0f549d36a0"
      },
      "source": [
        "period2.groupby('Country')['A_Co2_emissions(ton)'].sum().sort_values(ascending=False)"
      ],
      "execution_count": null,
      "outputs": [
        {
          "output_type": "execute_result",
          "data": {
            "text/plain": [
              "Country\n",
              "World                       3.977902e+09\n",
              "EU-28                       3.786469e+09\n",
              "United Kingdom              2.927455e+09\n",
              "France                      3.404222e+08\n",
              "Germany                     2.497309e+08\n",
              "United States               1.897219e+08\n",
              "Belgium                     1.504951e+08\n",
              "Poland                      6.295485e+07\n",
              "Austria                     3.064936e+07\n",
              "Netherlands                 1.685440e+07\n",
              "Spain                       2.740672e+06\n",
              "Denmark                     1.824672e+06\n",
              "Hungary                     1.766048e+06\n",
              "Europe (other)              1.348352e+06\n",
              "Sweden                      1.179808e+06\n",
              "Norway                      1.154160e+06\n",
              "Ireland                     3.957120e+05\n",
              "Canada                      3.700640e+05\n",
              "Americas (other)            3.700640e+05\n",
              "India                       0.000000e+00\n",
              "International transport     0.000000e+00\n",
              "Middle East                 0.000000e+00\n",
              "China                       0.000000e+00\n",
              "Statistical differences     0.000000e+00\n",
              "Asia and Pacific (other)    0.000000e+00\n",
              "Africa                      0.000000e+00\n",
              "Name: A_Co2_emissions(ton), dtype: float64"
            ]
          },
          "metadata": {},
          "execution_count": 44
        }
      ]
    },
    {
      "cell_type": "code",
      "metadata": {
        "trusted": true,
        "colab": {
          "base_uri": "https://localhost:8080/",
          "height": 454
        },
        "id": "sn8Mk46v62uo",
        "outputId": "0e243537-a146-4144-e459-7b415db9eee5"
      },
      "source": [
        "plt.style.use('seaborn')\n",
        "period2.groupby('Country')['A_Co2_emissions(ton)'].sum().sort_values(ascending=False)[1:11].plot(kind='bar')\n",
        "plt.title('Co2 emissions from year 1801 to 1850 by country',fontweight='bold')\n",
        "plt.ylabel('CO2 Emissions in tonnes')\n"
      ],
      "execution_count": null,
      "outputs": [
        {
          "output_type": "execute_result",
          "data": {
            "text/plain": [
              "Text(0, 0.5, 'CO2 Emissions in tonnes')"
            ]
          },
          "metadata": {},
          "execution_count": 45
        },
        {
          "output_type": "display_data",
          "data": {
            "image/png": "[encoded data removed]",
            "text/plain": [
              "<Figure size 576x396 with 1 Axes>"
            ]
          },
          "metadata": {}
        }
      ]
    },
    {
      "cell_type": "code",
      "metadata": {
        "trusted": true,
        "colab": {
          "base_uri": "https://localhost:8080/"
        },
        "id": "6nHhlh_C62up",
        "outputId": "607585f7-a45f-426e-c05b-1ecf8fa3fb06"
      },
      "source": [
        "co2_1801_to1850=period2['A_Co2_emissions(ton)'].sum()\n",
        "period2['A_Co2_emissions(ton)'].sum()"
      ],
      "execution_count": null,
      "outputs": [
        {
          "output_type": "execute_result",
          "data": {
            "text/plain": [
              "11743805168.0"
            ]
          },
          "metadata": {},
          "execution_count": 46
        }
      ]
    },
    {
      "cell_type": "markdown",
      "metadata": {
        "id": "yDCalbov62up"
      },
      "source": [
        "## Period 3 from 1851 to 1900"
      ]
    },
    {
      "cell_type": "code",
      "metadata": {
        "trusted": true,
        "colab": {
          "base_uri": "https://localhost:8080/",
          "height": 430
        },
        "id": "ANk_4Mfc62uq",
        "outputId": "6deec980-8739-42f5-9914-8645262e03e4"
      },
      "source": [
        "sns.distplot(period3['A_Co2_emissions(ton)'],kde=False).set_title('Co2 emissions from 1851 to 1900 Histogram')\n",
        "plt.ylabel('CO2 Emissions per tonnes')\n",
        "plt.show()"
      ],
      "execution_count": null,
      "outputs": [
        {
          "output_type": "stream",
          "name": "stderr",
          "text": [
            "/usr/local/lib/python3.7/dist-packages/seaborn/distributions.py:2619: FutureWarning: `distplot` is a deprecated function and will be removed in a future version. Please adapt your code to use either `displot` (a figure-level function with similar flexibility) or `histplot` (an axes-level function for histograms).\n",
            "  warnings.warn(msg, FutureWarning)\n"
          ]
        },
        {
          "output_type": "display_data",
          "data": {
            "image/png": "[encoded data removed]",
            "text/plain": [
              "<Figure size 576x396 with 1 Axes>"
            ]
          },
          "metadata": {}
        }
      ]
    },
    {
      "cell_type": "code",
      "metadata": {
        "trusted": true,
        "colab": {
          "base_uri": "https://localhost:8080/"
        },
        "id": "GoTUf-sD62uq",
        "outputId": "4c403637-80fc-46b8-cb1b-6a5f500bf9ee"
      },
      "source": [
        "period3.groupby('Country')['A_Co2_emissions(ton)'].sum().sort_values(ascending=False)"
      ],
      "execution_count": null,
      "outputs": [
        {
          "output_type": "execute_result",
          "data": {
            "text/plain": [
              "Country\n",
              "World                       4.007100e+10\n",
              "EU-28                       2.701552e+10\n",
              "United Kingdom              1.304018e+10\n",
              "United States               1.047446e+10\n",
              "Germany                     6.136203e+09\n",
              "France                      3.370041e+09\n",
              "Europe (other)              1.776490e+09\n",
              "Belgium                     1.357424e+09\n",
              "Poland                      1.271983e+09\n",
              "Czechoslovakia              8.433759e+08\n",
              "Austria                     5.286383e+08\n",
              "Asia and Pacific (other)    4.458795e+08\n",
              "Netherlands                 3.649857e+08\n",
              "Americas (other)            3.170716e+08\n",
              "Canada                      2.809225e+08\n",
              "Italy                       2.584952e+08\n",
              "Spain                       2.212726e+08\n",
              "Japan                       1.800050e+08\n",
              "Hungary                     1.623115e+08\n",
              "Sweden                      1.410017e+08\n",
              "India                       1.256972e+08\n",
              "Australia                   9.663067e+07\n",
              "Denmark                     9.335139e+07\n",
              "Switzerland                 8.329371e+07\n",
              "Norway                      6.559293e+07\n",
              "Portugal                    3.825216e+07\n",
              "Africa                      3.194275e+07\n",
              "South Africa                3.194275e+07\n",
              "New Zealand                 3.076294e+07\n",
              "Argentina                   2.495917e+07\n",
              "Romania                     1.774842e+07\n",
              "Turkey                      1.106894e+07\n",
              "Middle East                 1.106894e+07\n",
              "Indonesia                   7.463568e+06\n",
              "Finland                     6.913968e+06\n",
              "Mexico                      6.422992e+06\n",
              "Greece                      4.840144e+06\n",
              "Vietnam                     4.147648e+06\n",
              "Chile                       3.920480e+06\n",
              "Bulgaria                    1.168816e+06\n",
              "Peru                        8.647040e+05\n",
              "Malaysia                    7.657760e+05\n",
              "Ireland                     7.034880e+05\n",
              "Taiwan                      3.590720e+05\n",
              "China                       9.526400e+04\n",
              "Statistical differences     0.000000e+00\n",
              "Algeria                     0.000000e+00\n",
              "International transport     0.000000e+00\n",
              "Name: A_Co2_emissions(ton), dtype: float64"
            ]
          },
          "metadata": {},
          "execution_count": 48
        }
      ]
    },
    {
      "cell_type": "code",
      "metadata": {
        "trusted": true,
        "colab": {
          "base_uri": "https://localhost:8080/",
          "height": 454
        },
        "id": "ky7UhEcL62ur",
        "outputId": "763d9307-b837-404c-9744-16fbfcc38540"
      },
      "source": [
        "plt.style.use('seaborn')\n",
        "period3.groupby('Country')['A_Co2_emissions(ton)'].sum().sort_values(ascending=False)[1:11].plot(kind='bar')\n",
        "plt.ylabel('Co2 emissions in ton')\n",
        "plt.title('Co2 emissions from 1851 to 1900 per country',fontweight='bold')"
      ],
      "execution_count": null,
      "outputs": [
        {
          "output_type": "execute_result",
          "data": {
            "text/plain": [
              "Text(0.5, 1.0, 'Co2 emissions from 1851 to 1900 per country')"
            ]
          },
          "metadata": {},
          "execution_count": 49
        },
        {
          "output_type": "display_data",
          "data": {
            "image/png": "[encoded data removed]",
            "text/plain": [
              "<Figure size 576x396 with 1 Axes>"
            ]
          },
          "metadata": {}
        }
      ]
    },
    {
      "cell_type": "code",
      "metadata": {
        "trusted": true,
        "colab": {
          "base_uri": "https://localhost:8080/"
        },
        "id": "IY-yXcw162ur",
        "outputId": "004cf55c-e604-404a-9a62-a4ba12ae4a37"
      },
      "source": [
        "co2_1851_to1900=period3['A_Co2_emissions(ton)'].sum()\n",
        "period3['A_Co2_emissions(ton)'].sum()"
      ],
      "execution_count": null,
      "outputs": [
        {
          "output_type": "execute_result",
          "data": {
            "text/plain": [
              "108957247360.0"
            ]
          },
          "metadata": {},
          "execution_count": 50
        }
      ]
    },
    {
      "cell_type": "markdown",
      "metadata": {
        "id": "e7_iOWh662us"
      },
      "source": [
        "## Period 4 from 1901 to 1950"
      ]
    },
    {
      "cell_type": "code",
      "metadata": {
        "trusted": true,
        "colab": {
          "base_uri": "https://localhost:8080/",
          "height": 430
        },
        "id": "klF7MZMV62us",
        "outputId": "5c182b22-283d-4733-fa5e-58de98449ae8"
      },
      "source": [
        "sns.distplot(period4['A_Co2_emissions(ton)'],kde=False).set_title('Co2 emissions from 1901 to 1950 Histogram')\n",
        "plt.show()"
      ],
      "execution_count": null,
      "outputs": [
        {
          "output_type": "stream",
          "name": "stderr",
          "text": [
            "/usr/local/lib/python3.7/dist-packages/seaborn/distributions.py:2619: FutureWarning: `distplot` is a deprecated function and will be removed in a future version. Please adapt your code to use either `displot` (a figure-level function with similar flexibility) or `histplot` (an axes-level function for histograms).\n",
            "  warnings.warn(msg, FutureWarning)\n"
          ]
        },
        {
          "output_type": "display_data",
          "data": {
            "image/png": "[encoded data removed]",
            "text/plain": [
              "<Figure size 576x396 with 1 Axes>"
            ]
          },
          "metadata": {}
        }
      ]
    },
    {
      "cell_type": "code",
      "metadata": {
        "trusted": true,
        "colab": {
          "base_uri": "https://localhost:8080/"
        },
        "id": "3Ch7mdmA62ut",
        "outputId": "1eb0984a-11cb-43e9-c221-230c4640aed2"
      },
      "source": [
        "period4.groupby('Country')['A_Co2_emissions(ton)'].sum().sort_values(ascending=False)[:60]"
      ],
      "execution_count": null,
      "outputs": [
        {
          "output_type": "execute_result",
          "data": {
            "text/plain": [
              "Country\n",
              "World                       1.867113e+11\n",
              "United States               8.114232e+10\n",
              "EU-28                       6.919735e+10\n",
              "Germany                     2.279887e+10\n",
              "United Kingdom              2.241528e+10\n",
              "Europe (other)              1.212064e+10\n",
              "Americas (other)            8.595019e+09\n",
              "France                      8.174043e+09\n",
              "Asia and Pacific (other)    6.615554e+09\n",
              "Poland                      4.231121e+09\n",
              "Canada                      4.224995e+09\n",
              "Japan                       3.937353e+09\n",
              "Belgium                     3.194440e+09\n",
              "Czechoslovakia              2.789832e+09\n",
              "India                       2.068881e+09\n",
              "China                       1.871381e+09\n",
              "Africa                      1.706222e+09\n",
              "Netherlands                 1.493443e+09\n",
              "South Africa                1.461071e+09\n",
              "Italy                       1.433309e+09\n",
              "Middle East                 1.367625e+09\n",
              "Australia                   1.243477e+09\n",
              "Mexico                      1.239286e+09\n",
              "Austria                     1.106319e+09\n",
              "Spain                       9.425933e+08\n",
              "Iran                        8.767622e+08\n",
              "Sweden                      7.913544e+08\n",
              "Romania                     6.997471e+08\n",
              "Hungary                     6.094075e+08\n",
              "Denmark                     6.004270e+08\n",
              "Indonesia                   5.753543e+08\n",
              "Argentina                   5.311078e+08\n",
              "Switzerland                 3.899595e+08\n",
              "Norway                      3.513410e+08\n",
              "Venezuela                   3.254438e+08\n",
              "Brazil                      2.551683e+08\n",
              "Ireland                     2.333931e+08\n",
              "New Zealand                 2.237092e+08\n",
              "Chile                       1.993582e+08\n",
              "Peru                        1.931294e+08\n",
              "Trinidad and Tobago         1.919093e+08\n",
              "Turkey                      1.727869e+08\n",
              "Portugal                    1.721640e+08\n",
              "Taiwan                      1.575300e+08\n",
              "Iraq                        1.308414e+08\n",
              "Vietnam                     1.298668e+08\n",
              "Saudi Arabia                1.261698e+08\n",
              "Bulgaria                    1.181933e+08\n",
              "Finland                     1.167607e+08\n",
              "Zimbabwe                    9.359322e+07\n",
              "Colombia                    7.542710e+07\n",
              "Egypt                       7.473094e+07\n",
              "Malaysia                    6.495173e+07\n",
              "Greece                      5.742221e+07\n",
              "Bahrain                     4.747811e+07\n",
              "Myanmar                     4.643021e+07\n",
              "Brunei                      3.292104e+07\n",
              "Nigeria                     3.197573e+07\n",
              "Ecuador                     2.211590e+07\n",
              "Algeria                     1.108726e+07\n",
              "Name: A_Co2_emissions(ton), dtype: float64"
            ]
          },
          "metadata": {},
          "execution_count": 52
        }
      ]
    },
    {
      "cell_type": "code",
      "metadata": {
        "trusted": true,
        "colab": {
          "base_uri": "https://localhost:8080/",
          "height": 486
        },
        "id": "QXXjOZNB62ut",
        "outputId": "00c1a110-111c-4d9e-9c01-863bf73d87b0"
      },
      "source": [
        "plt.style.use('seaborn')\n",
        "period4.groupby('Country')['A_Co2_emissions(ton)'].sum().sort_values(ascending=False)[1:11].plot(kind='bar')\n",
        "plt.title('Top 10 coutries in emttiong co2 from 1901 to 1950',fontweight='bold')\n",
        "plt.ylabel('CO2 Emissions in tonnes')"
      ],
      "execution_count": null,
      "outputs": [
        {
          "output_type": "execute_result",
          "data": {
            "text/plain": [
              "Text(0, 0.5, 'CO2 Emissions in tonnes')"
            ]
          },
          "metadata": {},
          "execution_count": 53
        },
        {
          "output_type": "display_data",
          "data": {
            "image/png": "[encoded data removed]",
            "text/plain": [
              "<Figure size 576x396 with 1 Axes>"
            ]
          },
          "metadata": {}
        }
      ]
    },
    {
      "cell_type": "code",
      "metadata": {
        "trusted": true,
        "colab": {
          "base_uri": "https://localhost:8080/"
        },
        "id": "IOEBNxHy62ut",
        "outputId": "86d64df6-bc09-4ba6-c4d1-b1372ddc4b95"
      },
      "source": [
        "co2_1901_to1950=period4['A_Co2_emissions(ton)'].sum()\n",
        "period3['A_Co2_emissions(ton)'].sum()"
      ],
      "execution_count": null,
      "outputs": [
        {
          "output_type": "execute_result",
          "data": {
            "text/plain": [
              "108957247360.0"
            ]
          },
          "metadata": {},
          "execution_count": 54
        }
      ]
    },
    {
      "cell_type": "code",
      "metadata": {
        "id": "wsRNrUcls8Kk"
      },
      "source": [
        ""
      ],
      "execution_count": null,
      "outputs": []
    },
    {
      "cell_type": "markdown",
      "metadata": {
        "id": "_qrndEY962uu"
      },
      "source": [
        "## Period 5 from 1951 to 2000"
      ]
    },
    {
      "cell_type": "code",
      "metadata": {
        "trusted": true,
        "colab": {
          "base_uri": "https://localhost:8080/",
          "height": 430
        },
        "id": "2Cpu4EcN62uu",
        "outputId": "e8a6e401-2fa3-437f-aa2b-4b41ad6e2b3b"
      },
      "source": [
        "sns.distplot(period5['A_Co2_emissions(ton)'],kde=False).set_title('Co2 emissions from 1951 to 2000 Histogram')\n",
        "plt.show()"
      ],
      "execution_count": null,
      "outputs": [
        {
          "output_type": "stream",
          "name": "stderr",
          "text": [
            "/usr/local/lib/python3.7/dist-packages/seaborn/distributions.py:2619: FutureWarning: `distplot` is a deprecated function and will be removed in a future version. Please adapt your code to use either `displot` (a figure-level function with similar flexibility) or `histplot` (an axes-level function for histograms).\n",
            "  warnings.warn(msg, FutureWarning)\n"
          ]
        },
        {
          "output_type": "display_data",
          "data": {
            "image/png": "[encoded data removed]",
            "text/plain": [
              "<Figure size 576x396 with 1 Axes>"
            ]
          },
          "metadata": {}
        }
      ]
    },
    {
      "cell_type": "code",
      "metadata": {
        "trusted": true,
        "colab": {
          "base_uri": "https://localhost:8080/"
        },
        "id": "P_g6GW_i62uu",
        "outputId": "a4ce1acf-8d34-4eca-8398-8c28a888dcda"
      },
      "source": [
        "period5.groupby('Country')['A_Co2_emissions(ton)'].sum().sort_values(ascending=False)[:60]"
      ],
      "execution_count": null,
      "outputs": [
        {
          "output_type": "execute_result",
          "data": {
            "text/plain": [
              "Country\n",
              "World                       8.038565e+11\n",
              "United States               2.101561e+11\n",
              "EU-28                       1.847867e+11\n",
              "Europe (other)              1.068213e+11\n",
              "Asia and Pacific (other)    9.525536e+10\n",
              "Russia                      7.278933e+10\n",
              "China                       7.093433e+10\n",
              "Americas (other)            5.206207e+10\n",
              "Germany                     4.704089e+10\n",
              "Japan                       3.687116e+10\n",
              "United Kingdom              2.931237e+10\n",
              "Middle East                 2.493215e+10\n",
              "Africa                      2.190192e+10\n",
              "Ukraine                     2.087584e+10\n",
              "International transport     1.926376e+10\n",
              "France                      1.920126e+10\n",
              "India                       1.805998e+10\n",
              "Canada                      1.772811e+10\n",
              "Poland                      1.581491e+10\n",
              "Italy                       1.466037e+10\n",
              "South Africa                1.064915e+10\n",
              "Mexico                      9.718950e+09\n",
              "Australia                   9.315328e+09\n",
              "Kazakhstan                  8.637974e+09\n",
              "Spain                       7.728443e+09\n",
              "Czechoslovakia              7.608241e+09\n",
              "Brazil                      7.066236e+09\n",
              "South Korea                 6.777311e+09\n",
              "Iran                        6.565614e+09\n",
              "Netherlands                 6.516918e+09\n",
              "Czech Republic              6.325350e+09\n",
              "Romania                     6.049540e+09\n",
              "Saudi Arabia                5.653556e+09\n",
              "Belgium                     5.628953e+09\n",
              "Indonesia                   4.632943e+09\n",
              "Argentina                   4.417941e+09\n",
              "Venezuela                   4.258166e+09\n",
              "Uzbekistan                  4.098787e+09\n",
              "Turkey                      4.079781e+09\n",
              "North Korea                 3.937622e+09\n",
              "Taiwan                      3.519739e+09\n",
              "Hungary                     3.186190e+09\n",
              "Sweden                      3.077239e+09\n",
              "Belarus                     3.010140e+09\n",
              "Bulgaria                    2.751779e+09\n",
              "Denmark                     2.483390e+09\n",
              "Thailand                    2.459687e+09\n",
              "Austria                     2.421913e+09\n",
              "Egypt                       2.358237e+09\n",
              "Greece                      2.170805e+09\n",
              "Algeria                     2.107537e+09\n",
              "Slovakia                    2.068032e+09\n",
              "Finland                     1.956448e+09\n",
              "Statistical differences     1.940406e+09\n",
              "Azerbaijan                  1.888820e+09\n",
              "Colombia                    1.833700e+09\n",
              "Pakistan                    1.791044e+09\n",
              "Malaysia                    1.738076e+09\n",
              "Iraq                        1.737683e+09\n",
              "Switzerland                 1.715676e+09\n",
              "Name: A_Co2_emissions(ton), dtype: float64"
            ]
          },
          "metadata": {},
          "execution_count": 56
        }
      ]
    },
    {
      "cell_type": "code",
      "metadata": {
        "execution": {
          "iopub.status.busy": "2021-10-18T14:53:56.110163Z",
          "iopub.execute_input": "2021-10-18T14:53:56.110665Z",
          "iopub.status.idle": "2021-10-18T14:53:56.301887Z",
          "shell.execute_reply.started": "2021-10-18T14:53:56.110633Z",
          "shell.execute_reply": "2021-10-18T14:53:56.300777Z"
        },
        "trusted": true,
        "colab": {
          "base_uri": "https://localhost:8080/",
          "height": 486
        },
        "id": "pNEZaNH662uv",
        "outputId": "308c73ca-9523-48a0-d5d8-1b3a013ffc81"
      },
      "source": [
        "plt.style.use('seaborn')\n",
        "period5.groupby('Country')['A_Co2_emissions(ton)'].sum().sort_values(ascending=False)[1:11].plot(kind='bar')\n",
        "plt.title('Top 10 coutries in emttiong co2 from 1951 to 2000',fontweight='bold')\n",
        "plt.ylabel('CO2 Emissions in tonnes')"
      ],
      "execution_count": null,
      "outputs": [
        {
          "output_type": "execute_result",
          "data": {
            "text/plain": [
              "Text(0, 0.5, 'CO2 Emissions in tonnes')"
            ]
          },
          "metadata": {},
          "execution_count": 57
        },
        {
          "output_type": "display_data",
          "data": {
            "image/png": "[encoded data removed]",
            "text/plain": [
              "<Figure size 576x396 with 1 Axes>"
            ]
          },
          "metadata": {}
        }
      ]
    },
    {
      "cell_type": "code",
      "metadata": {
        "trusted": true,
        "colab": {
          "base_uri": "https://localhost:8080/"
        },
        "id": "2LlrdDeR62uv",
        "outputId": "a9a40609-4761-4342-9c8b-e53c5e149de4"
      },
      "source": [
        "co2_1951_to2000=period5['A_Co2_emissions(ton)'].sum()\n",
        "period5['A_Co2_emissions(ton)'].sum()"
      ],
      "execution_count": null,
      "outputs": [
        {
          "output_type": "execute_result",
          "data": {
            "text/plain": [
              "2098559550816.26"
            ]
          },
          "metadata": {},
          "execution_count": 58
        }
      ]
    },
    {
      "cell_type": "markdown",
      "metadata": {
        "id": "mN45esaz62uv"
      },
      "source": [
        "## Period 6 from 2000 to 2017"
      ]
    },
    {
      "cell_type": "code",
      "metadata": {
        "execution": {
          "iopub.status.busy": "2021-10-18T14:53:50.216442Z",
          "iopub.execute_input": "2021-10-18T14:53:50.216809Z",
          "iopub.status.idle": "2021-10-18T14:53:50.481996Z",
          "shell.execute_reply.started": "2021-10-18T14:53:50.216772Z",
          "shell.execute_reply": "2021-10-18T14:53:50.481067Z"
        },
        "trusted": true,
        "colab": {
          "base_uri": "https://localhost:8080/",
          "height": 430
        },
        "id": "S90v0NEE62uw",
        "outputId": "75f8881a-aa1d-4db3-9a88-a8b531bdfc37"
      },
      "source": [
        "sns.distplot(period6['A_Co2_emissions(ton)'],kde=False).set_title('Co2 emissions from 1951 to 2000 Histogram')\n",
        "plt.show()"
      ],
      "execution_count": null,
      "outputs": [
        {
          "output_type": "stream",
          "name": "stderr",
          "text": [
            "/usr/local/lib/python3.7/dist-packages/seaborn/distributions.py:2619: FutureWarning: `distplot` is a deprecated function and will be removed in a future version. Please adapt your code to use either `displot` (a figure-level function with similar flexibility) or `histplot` (an axes-level function for histograms).\n",
            "  warnings.warn(msg, FutureWarning)\n"
          ]
        },
        {
          "output_type": "display_data",
          "data": {
            "image/png": "[encoded data removed]",
            "text/plain": [
              "<Figure size 576x396 with 1 Axes>"
            ]
          },
          "metadata": {}
        }
      ]
    },
    {
      "cell_type": "code",
      "metadata": {
        "execution": {
          "iopub.status.busy": "2021-10-18T14:53:41.713373Z",
          "iopub.execute_input": "2021-10-18T14:53:41.713839Z",
          "iopub.status.idle": "2021-10-18T14:53:41.899937Z",
          "shell.execute_reply.started": "2021-10-18T14:53:41.713795Z",
          "shell.execute_reply": "2021-10-18T14:53:41.898931Z"
        },
        "trusted": true,
        "colab": {
          "base_uri": "https://localhost:8080/",
          "height": 486
        },
        "id": "OWuGC7Sp62uw",
        "outputId": "3f7fb80c-209b-40be-daa1-862e4c4acd30"
      },
      "source": [
        "\n",
        "plt.style.use('seaborn')\n",
        "period6.groupby('Country')['A_Co2_emissions(ton)'].sum().sort_values(ascending=False)[1:11].plot(kind='bar')\n",
        "plt.title('Top 10 coutries in emttiong co2 from 2000 to 2017',fontweight='bold')\n",
        "plt.ylabel('CO2 Emissions in tonnes')"
      ],
      "execution_count": null,
      "outputs": [
        {
          "output_type": "execute_result",
          "data": {
            "text/plain": [
              "Text(0, 0.5, 'CO2 Emissions in tonnes')"
            ]
          },
          "metadata": {},
          "execution_count": 60
        },
        {
          "output_type": "display_data",
          "data": {
            "image/png": "[encoded data removed]",
            "text/plain": [
              "<Figure size 576x396 with 1 Axes>"
            ]
          },
          "metadata": {}
        }
      ]
    },
    {
      "cell_type": "code",
      "metadata": {
        "execution": {
          "iopub.status.busy": "2021-10-18T14:52:55.425023Z",
          "iopub.execute_input": "2021-10-18T14:52:55.425378Z",
          "iopub.status.idle": "2021-10-18T14:52:55.433446Z",
          "shell.execute_reply.started": "2021-10-18T14:52:55.425350Z",
          "shell.execute_reply": "2021-10-18T14:52:55.432439Z"
        },
        "trusted": true,
        "colab": {
          "base_uri": "https://localhost:8080/"
        },
        "id": "cgPrtpPC62uw",
        "outputId": "608a8da2-dc59-45f6-8453-6a8d997dbb23"
      },
      "source": [
        "co2_2000_to2017=period6['A_Co2_emissions(ton)'].sum()\n",
        "period6['A_Co2_emissions(ton)'].sum()"
      ],
      "execution_count": null,
      "outputs": [
        {
          "output_type": "execute_result",
          "data": {
            "text/plain": [
              "1353813227237.38"
            ]
          },
          "metadata": {},
          "execution_count": 61
        }
      ]
    },
    {
      "cell_type": "code",
      "metadata": {
        "execution": {
          "iopub.status.busy": "2021-10-18T14:53:14.942015Z",
          "iopub.execute_input": "2021-10-18T14:53:14.942367Z",
          "iopub.status.idle": "2021-10-18T14:53:14.966920Z",
          "shell.execute_reply.started": "2021-10-18T14:53:14.942337Z",
          "shell.execute_reply": "2021-10-18T14:53:14.965529Z"
        },
        "trusted": true,
        "colab": {
          "base_uri": "https://localhost:8080/",
          "height": 237
        },
        "id": "aatpOmti62ux",
        "outputId": "7fb40e0d-e32d-44ea-aa90-b0696a3f28a2"
      },
      "source": [
        "plt.bar([1,2,3,4,5,6],[co2_2000_to2017,co2_1951_to2000,co2_1901_to1950,co2_1851_to1900,co2_1801_to1850,co2_1751_to1800]\n",
        "       ,tick_label=['2000-2017','1951-2000','1950-1901','1851-1900','1801-1850','1751-1800'])\n",
        "plt.xtitle=('Time Frames')\n",
        "plt.ylabel=('CO2 Emissions in ton')\n",
        "plt.title('CO2 Emissions over different periods of time',fontweight='bold')\n",
        "plt.show()"
      ],
      "execution_count": null,
      "outputs": [
        {
          "output_type": "error",
          "ename": "NameError",
          "evalue": "ignored",
          "traceback": [
            "\u001b[0;31m---------------------------------------------------------------------------\u001b[0m",
            "\u001b[0;31mNameError\u001b[0m                                 Traceback (most recent call last)",
            "\u001b[0;32m<ipython-input-2-034d504c7822>\u001b[0m in \u001b[0;36m<module>\u001b[0;34m()\u001b[0m\n\u001b[0;32m----> 1\u001b[0;31m plt.bar([1,2,3,4,5,6],[co2_2000_to2017,co2_1951_to2000,co2_1901_to1950,co2_1851_to1900,co2_1801_to1850,co2_1751_to1800]\n\u001b[0m\u001b[1;32m      2\u001b[0m        ,tick_label=['2000-2017','1951-2000','1950-1901','1851-1900','1801-1850','1751-1800'])\n\u001b[1;32m      3\u001b[0m \u001b[0mplt\u001b[0m\u001b[0;34m.\u001b[0m\u001b[0mxtitle\u001b[0m\u001b[0;34m=\u001b[0m\u001b[0;34m(\u001b[0m\u001b[0;34m'Time Frames'\u001b[0m\u001b[0;34m)\u001b[0m\u001b[0;34m\u001b[0m\u001b[0;34m\u001b[0m\u001b[0m\n\u001b[1;32m      4\u001b[0m \u001b[0mplt\u001b[0m\u001b[0;34m.\u001b[0m\u001b[0mylabel\u001b[0m\u001b[0;34m=\u001b[0m\u001b[0;34m(\u001b[0m\u001b[0;34m'CO2 Emissions in ton'\u001b[0m\u001b[0;34m)\u001b[0m\u001b[0;34m\u001b[0m\u001b[0;34m\u001b[0m\u001b[0m\n\u001b[1;32m      5\u001b[0m \u001b[0mplt\u001b[0m\u001b[0;34m.\u001b[0m\u001b[0mtitle\u001b[0m\u001b[0;34m(\u001b[0m\u001b[0;34m'CO2 Emissions over different periods of time'\u001b[0m\u001b[0;34m,\u001b[0m\u001b[0mfontweight\u001b[0m\u001b[0;34m=\u001b[0m\u001b[0;34m'bold'\u001b[0m\u001b[0;34m)\u001b[0m\u001b[0;34m\u001b[0m\u001b[0;34m\u001b[0m\u001b[0m\n",
            "\u001b[0;31mNameError\u001b[0m: name 'plt' is not defined"
          ]
        }
      ]
    },
    {
      "cell_type": "code",
      "metadata": {
        "trusted": true,
        "id": "CP-m4c3W62ux"
      },
      "source": [
        ""
      ],
      "execution_count": null,
      "outputs": []
    }
  ]
}